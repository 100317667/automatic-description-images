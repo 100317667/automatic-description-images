{
 "cells": [
  {
   "cell_type": "code",
   "execution_count": null,
   "source": [
    "import sys\n",
    "import os"
   ],
   "outputs": [],
   "metadata": {}
  },
  {
   "cell_type": "code",
   "execution_count": null,
   "source": [
    "sys.path.append(os.getcwd())"
   ],
   "outputs": [],
   "metadata": {}
  },
  {
   "cell_type": "code",
   "execution_count": null,
   "source": [
    "%matplotlib inline\n",
    "\n",
    "from pycocotools.coco import COCO\n",
    "from pycocoevalcap.eval import COCOEvalCap\n",
    "import matplotlib.pyplot as plt\n",
    "import skimage.io as io\n",
    "import pylab\n",
    "pylab.rcParams['figure.figsize'] = (10.0, 8.0)\n",
    "\n",
    "import json\n",
    "from json import encoder\n",
    "encoder.FLOAT_REPR = lambda o: format(o, '.3f')\n",
    "\n",
    "from random import randint, uniform,random\n",
    "import pandas as pd\n",
    "import numpy as np\n",
    "\n",
    "\n",
    "from PIL import Image\n",
    "from IPython.core.display import HTML\n",
    "\n",
    "from datetime import date\n"
   ],
   "outputs": [],
   "metadata": {}
  },
  {
   "cell_type": "code",
   "execution_count": null,
   "source": [
    "def check_len_cap(resFile, n_limit):\n",
    "    \n",
    "    with open(resFile) as f:\n",
    "                preds = json.load(f)\n",
    "\n",
    "    preds_df = pd.DataFrame(preds)\n",
    "\n",
    "    indexes_long_cap = preds_df[preds_df['caption'].str.split().apply(len)>n_limit].index.values\n",
    "\n",
    "    if(len(indexes_long_cap)>0):\n",
    "        for i in (indexes_long_cap): preds_df.at[i, 'caption'] = ' '.join(preds_df.at[i, 'caption'].split()[:n_limit])\n",
    "\n",
    "        preds_df.to_json(resFile[:-5]+'-CUT.json',orient='records')\n",
    "\n",
    "        resFile = resFile[:-5]+'-CUT.json' \n",
    "        print('\\nINFO: Algunos subtítulos han sido cortados.')\n",
    "\n",
    "    else:\n",
    "        print('\\nINFO: Todos los subtítulos tiene el tamaño correcto.\\n')\n",
    "    return resFile\n"
   ],
   "outputs": [],
   "metadata": {}
  },
  {
   "cell_type": "code",
   "execution_count": null,
   "source": [
    "# Ajustar path de imágenes\n",
    "dataDir= '/'.join(map(str, os.getcwd().split(\"/\")[0:-1])) \n",
    "dataType='val2014'\n",
    "algName = 'fakecap'\n",
    "annFile='%s/score/annotations/captions_%s.json'%(dataDir,dataType)\n",
    "\n",
    "rootDir = \"/\".join(os.getcwd().split(\"/\")[0:-1])+\"/\"\n",
    "\n",
    "# Se debe especifcar la ruta del archivo de predicciones. \n",
    "resFile = rootDir+'transformer-tensorflow/output/transformer-limiter-tf-20210721-175529-predictions.json' # EJEMPLO\n",
    "\n",
    "\n",
    "# Descargar modelos Stanford\n",
    "!./get_stanford_models.sh"
   ],
   "outputs": [],
   "metadata": {}
  },
  {
   "cell_type": "code",
   "execution_count": null,
   "source": [
    "ls /export/gts_usuarios/aghernandez/automatic-description-images/rnn-tensorflow/output/"
   ],
   "outputs": [],
   "metadata": {}
  },
  {
   "cell_type": "code",
   "execution_count": null,
   "source": [
    "# [OPCIONAL]: Variables para guardar información\n",
    "mode = ['tf-transformer/', 'fairseq/', 'tf-RNN/']\n",
    "savedDir = 'saved/'+ mode[2]\n",
    "savedFile=\"-\".join(resFile.split('/')[-1].split('.')[0:-1])+\"-\"+str(date.today().strftime(\"%d%m%Y\"))"
   ],
   "outputs": [],
   "metadata": {}
  },
  {
   "cell_type": "code",
   "execution_count": null,
   "source": [
    "resFile = check_len_cap(resFile, n_limit=25)"
   ],
   "outputs": [],
   "metadata": {}
  },
  {
   "cell_type": "code",
   "execution_count": null,
   "source": [
    "def image_path(coco_dir, image_id):\n",
    "    return os.path.join(coco_dir, 'images', 'val2014', f'COCO_val2014_{image_id:012d}.jpg')\n",
    "\n",
    "def image_size(image_path):\n",
    "    with Image.open(image_path) as img:\n",
    "        return img.size\n",
    "\n",
    "\n",
    "def image_html(image_path, scale):\n",
    "    width, height = image_size(image_path)\n",
    "    return f'<img src=\"{image_path}\" width=\"{width * scale}\" height=\"{height * scale}\" style=\"display: block; margin-left: auto; margin-right: auto;\" />'\n",
    "\n",
    "\n",
    "def result_html(coco_dir,\n",
    "                image_ids,\n",
    "                image_captions,\n",
    "                score,\n",
    "                image_scale=0.3):\n",
    "    \n",
    "    image_paths = [image_path(coco_dir, image_id) for image_id in image_ids]\n",
    "\n",
    "\n",
    "    df = pd.DataFrame(dict({'ImageID': image_ids,\n",
    "                            'Image': image_paths,\n",
    "                            'Captions': image_captions,\n",
    "                            'CIDEr Score': score['CIDEr'],\n",
    "                            'SPICE Score': score['SPICE']\n",
    "                            }))\n",
    "    \n",
    "    return df.to_html(index=False,\n",
    "                      escape=False,\n",
    "                      justify='left',\n",
    "                      formatters=[lambda x: '<p style=\"text-align: center;\">' + str(x) + '</p>', \n",
    "                                  lambda path: image_html(path, image_scale), \n",
    "                                  #lambda x: '<p style=\"text-align: center;\">' + x + '</p>', \n",
    "                                  lambda x: '<p style=\"text-align: center;\">' + x + '</p>',\n",
    "                                  lambda x: '<p style=\"text-align: center;\">' + x + '</p>',\n",
    "                                  lambda x: '<p style=\"text-align: center;\">' + x + '</p>'\n",
    "                                 ]).replace('<th>', '<th style=\"text-align: center;\">')\n"
   ],
   "outputs": [],
   "metadata": {}
  },
  {
   "cell_type": "code",
   "execution_count": null,
   "source": [
    "print(\"resFile: \", resFile, \"\\n annFile: \", annFile)"
   ],
   "outputs": [],
   "metadata": {}
  },
  {
   "cell_type": "code",
   "execution_count": null,
   "source": [
    "# Crear objeto coco y objeto cocoRes.\n",
    "coco = COCO(annFile)\n",
    "cocoRes = coco.loadRes(resFile)\n",
    "\n",
    "# Crear objeto cocoEval.\n",
    "cocoEval = COCOEvalCap(coco, cocoRes)\n",
    "\n",
    "# Evaluar conjunto de imágenes.\n",
    "cocoEval.params['image_id'] = cocoRes.getImgIds()\n",
    "\n",
    "# Evaluar predicciones.\n",
    "metrics = cocoEval.evaluate()"
   ],
   "outputs": [],
   "metadata": {}
  },
  {
   "cell_type": "code",
   "execution_count": null,
   "source": [
    "# [OPCIONAL]: Guardar scores\n",
    "\n",
    "scoreFile=savedDir+'score-'+savedFile+'.txt'\n",
    "\n",
    "from contextlib import redirect_stdout\n",
    " \n",
    "with open(scoreFile, 'w') as f:\n",
    "    with redirect_stdout(f):\n",
    "        print(\"File: \"+resFile.split(\"/\")[-1])\n",
    "        for metric, score in cocoEval.eval.items():\n",
    "            print('- %s: %.3f'%(metric, score))\n",
    "\n",
    "!cat $scoreFile"
   ],
   "outputs": [],
   "metadata": {}
  },
  {
   "cell_type": "code",
   "execution_count": null,
   "source": [
    "evals = [eva for eva in cocoEval.evalImgs if eva['CIDEr']<30]\n",
    "num_imgs = 20\n",
    "num_random = randint(0,len(cocoEval.params['image_id'])-num_imgs)\n",
    "\n",
    "img_ids = pd.DataFrame(evals[num_random:num_random+num_imgs]).sort_values(['image_id'], ascending=[1])['image_id']\n",
    "\n",
    "df = pd.DataFrame()\n",
    "\n",
    "score_all = pd.DataFrame(columns=['image_id','CIDEr','SPICE'])\n",
    "\n",
    "for i,imgId in enumerate(img_ids):\n",
    "    \n",
    "    annIds =  coco.getAnnIds(imgIds=imgId)\n",
    "    anns = coco.loadAnns(annIds)\n",
    "    row_df = pd.DataFrame(anns)\n",
    "    row_df['caption'] = \"R: \" + row_df['caption'] + \"<br>\"\n",
    "    df = pd.concat([row_df, df], ignore_index=True)\n",
    "\n",
    "    annIds = cocoRes.getAnnIds(imgIds=imgId)\n",
    "    anns = cocoRes.loadAnns(annIds)\n",
    "   \n",
    "    row_df = pd.DataFrame(anns)\n",
    "    row_df['caption'] = \"P: \" + row_df['caption'] + \"<br> <br>\"\n",
    "    df = pd.concat([row_df, df], ignore_index=True)\n",
    "    \n",
    "    indexes_all = pd.DataFrame(cocoEval.evalImgs)['image_id'].index\n",
    "    index_img = indexes_all[pd.DataFrame(cocoEval.evalImgs)['image_id'] == imgId].tolist()[0]\n",
    "    \n",
    "    score_all.loc[i, 'image_id'] = imgId\n",
    "    score_all.loc[i,'SPICE'] = pd.DataFrame(cocoEval.evalImgs)['SPICE'][index_img]['All']['f']\n",
    "    score_all.loc[i,'CIDEr'] = pd.DataFrame(cocoEval.evalImgs)['CIDEr'][index_img]\n",
    "\n",
    "captions_list = df[['image_id','caption']].groupby('image_id').sum().sort_values(['image_id'], ascending=[1])['caption'].tolist()\n",
    "score_all_sorted = score_all.sort_values(['image_id'], ascending=[1])"
   ],
   "outputs": [],
   "metadata": {}
  },
  {
   "cell_type": "code",
   "execution_count": null,
   "source": [
    "ms_coco_dir = '../ms-coco'\n",
    "html = result_html(coco_dir= ms_coco_dir,\n",
    "                image_ids=score_all_sorted['image_id'],\n",
    "                image_captions=captions_list,\n",
    "                score = score_all_sorted,\n",
    "                image_scale=0.3)\n",
    "\n"
   ],
   "outputs": [],
   "metadata": {}
  },
  {
   "cell_type": "code",
   "execution_count": null,
   "source": [
    "HTML(html)\n"
   ],
   "outputs": [],
   "metadata": {
    "scrolled": true
   }
  },
  {
   "cell_type": "code",
   "execution_count": null,
   "source": [
    "# [OPCIONAL]: Guardar HTML\n",
    "HTMLFile=savedDir+'HTML-'+savedFile+'.html'\n",
    "with open(HTMLFile, 'w') as file:\n",
    "    file.write(html)"
   ],
   "outputs": [],
   "metadata": {}
  },
  {
   "cell_type": "code",
   "execution_count": null,
   "source": [
    "# Plot score histogram\n",
    "ciderScores = [eva['CIDEr'] for eva in cocoEval.evalImgs]\n",
    "plt.hist(ciderScores)\n",
    "plt.title('Histogram of CIDEr Scores', fontsize=20)\n",
    "plt.xlabel('CIDEr score', fontsize=20)\n",
    "plt.ylabel('result counts', fontsize=20)\n",
    "\n",
    "# [OPCIONAL]: Guardar HISTOGRAM\n",
    "HTMLFile=savedDir+'HISTOGRAM-'+savedFile+'.png'\n",
    "plt.savefig(HTMLFile)"
   ],
   "outputs": [],
   "metadata": {
    "scrolled": true
   }
  },
  {
   "cell_type": "code",
   "execution_count": null,
   "source": [],
   "outputs": [],
   "metadata": {}
  },
  {
   "cell_type": "code",
   "execution_count": null,
   "source": [],
   "outputs": [],
   "metadata": {}
  }
 ],
 "metadata": {
  "interpreter": {
   "hash": "8e80f825fb7ce4041ce3c2ba950fcdd1c8b30b4c972779afe71a976f4ef2411a"
  },
  "kernelspec": {
   "display_name": "score-image-captioning",
   "language": "python",
   "name": "score-image-captioning"
  },
  "language_info": {
   "codemirror_mode": {
    "name": "ipython",
    "version": 3
   },
   "file_extension": ".py",
   "mimetype": "text/x-python",
   "name": "python",
   "nbconvert_exporter": "python",
   "pygments_lexer": "ipython3",
   "version": "3.6.13"
  }
 },
 "nbformat": 4,
 "nbformat_minor": 1
}